{
 "cells": [
  {
   "cell_type": "markdown",
   "metadata": {},
   "source": [
    "## Load and import package"
   ]
  },
  {
   "cell_type": "code",
   "execution_count": 1,
   "metadata": {},
   "outputs": [],
   "source": [
    "import yfinance as yf"
   ]
  },
  {
   "cell_type": "markdown",
   "metadata": {},
   "source": [
    "## Configure parameters"
   ]
  },
  {
   "cell_type": "code",
   "execution_count": 2,
   "metadata": {},
   "outputs": [],
   "source": [
    "# Start date inclusive\n",
    "start_date = '2013-01-02'\n",
    "\n",
    "# End date exclusive\n",
    "end_date = '2019-01-01'\n",
    "\n",
    "# Stock of interest: Vanguard Total Stock Market ETF (VTI)\n",
    "ticker_list = ['VTI']"
   ]
  },
  {
   "cell_type": "markdown",
   "metadata": {},
   "source": [
    "## Download data"
   ]
  },
  {
   "cell_type": "code",
   "execution_count": 3,
   "metadata": {},
   "outputs": [
    {
     "name": "stdout",
     "output_type": "stream",
     "text": [
      "[*********************100%***********************]  1 of 1 completed\n"
     ]
    }
   ],
   "source": [
    "data = yf.download(ticker_list, start=start_date, end=end_date)"
   ]
  },
  {
   "cell_type": "markdown",
   "metadata": {},
   "source": [
    "## Data check and preliminary data transformation"
   ]
  },
  {
   "cell_type": "code",
   "execution_count": 4,
   "metadata": {},
   "outputs": [
    {
     "data": {
      "text/html": [
       "<div>\n",
       "<style scoped>\n",
       "    .dataframe tbody tr th:only-of-type {\n",
       "        vertical-align: middle;\n",
       "    }\n",
       "\n",
       "    .dataframe tbody tr th {\n",
       "        vertical-align: top;\n",
       "    }\n",
       "\n",
       "    .dataframe thead th {\n",
       "        text-align: right;\n",
       "    }\n",
       "</style>\n",
       "<table border=\"1\" class=\"dataframe\">\n",
       "  <thead>\n",
       "    <tr style=\"text-align: right;\">\n",
       "      <th></th>\n",
       "      <th>Open</th>\n",
       "      <th>High</th>\n",
       "      <th>Low</th>\n",
       "      <th>Close</th>\n",
       "      <th>Adj Close</th>\n",
       "      <th>Volume</th>\n",
       "    </tr>\n",
       "    <tr>\n",
       "      <th>Date</th>\n",
       "      <th></th>\n",
       "      <th></th>\n",
       "      <th></th>\n",
       "      <th></th>\n",
       "      <th></th>\n",
       "      <th></th>\n",
       "    </tr>\n",
       "  </thead>\n",
       "  <tbody>\n",
       "    <tr>\n",
       "      <th>2013-01-02 00:00:00-05:00</th>\n",
       "      <td>74.529999</td>\n",
       "      <td>75.150002</td>\n",
       "      <td>74.500000</td>\n",
       "      <td>75.139999</td>\n",
       "      <td>62.719402</td>\n",
       "      <td>5037200</td>\n",
       "    </tr>\n",
       "    <tr>\n",
       "      <th>2013-01-03 00:00:00-05:00</th>\n",
       "      <td>75.120003</td>\n",
       "      <td>75.370003</td>\n",
       "      <td>74.839996</td>\n",
       "      <td>75.029999</td>\n",
       "      <td>62.627575</td>\n",
       "      <td>2634600</td>\n",
       "    </tr>\n",
       "    <tr>\n",
       "      <th>2013-01-04 00:00:00-05:00</th>\n",
       "      <td>75.139999</td>\n",
       "      <td>75.519997</td>\n",
       "      <td>74.989998</td>\n",
       "      <td>75.410004</td>\n",
       "      <td>62.944786</td>\n",
       "      <td>2512900</td>\n",
       "    </tr>\n",
       "    <tr>\n",
       "      <th>2013-01-07 00:00:00-05:00</th>\n",
       "      <td>75.180000</td>\n",
       "      <td>75.279999</td>\n",
       "      <td>74.949997</td>\n",
       "      <td>75.209999</td>\n",
       "      <td>62.777840</td>\n",
       "      <td>2511200</td>\n",
       "    </tr>\n",
       "    <tr>\n",
       "      <th>2013-01-08 00:00:00-05:00</th>\n",
       "      <td>75.110001</td>\n",
       "      <td>75.180000</td>\n",
       "      <td>74.699997</td>\n",
       "      <td>75.010002</td>\n",
       "      <td>62.610920</td>\n",
       "      <td>1407900</td>\n",
       "    </tr>\n",
       "  </tbody>\n",
       "</table>\n",
       "</div>"
      ],
      "text/plain": [
       "                                Open       High        Low      Close  \\\n",
       "Date                                                                    \n",
       "2013-01-02 00:00:00-05:00  74.529999  75.150002  74.500000  75.139999   \n",
       "2013-01-03 00:00:00-05:00  75.120003  75.370003  74.839996  75.029999   \n",
       "2013-01-04 00:00:00-05:00  75.139999  75.519997  74.989998  75.410004   \n",
       "2013-01-07 00:00:00-05:00  75.180000  75.279999  74.949997  75.209999   \n",
       "2013-01-08 00:00:00-05:00  75.110001  75.180000  74.699997  75.010002   \n",
       "\n",
       "                           Adj Close   Volume  \n",
       "Date                                           \n",
       "2013-01-02 00:00:00-05:00  62.719402  5037200  \n",
       "2013-01-03 00:00:00-05:00  62.627575  2634600  \n",
       "2013-01-04 00:00:00-05:00  62.944786  2512900  \n",
       "2013-01-07 00:00:00-05:00  62.777840  2511200  \n",
       "2013-01-08 00:00:00-05:00  62.610920  1407900  "
      ]
     },
     "execution_count": 4,
     "metadata": {},
     "output_type": "execute_result"
    }
   ],
   "source": [
    "data.head()"
   ]
  },
  {
   "cell_type": "code",
   "execution_count": 5,
   "metadata": {},
   "outputs": [
    {
     "data": {
      "text/html": [
       "<div>\n",
       "<style scoped>\n",
       "    .dataframe tbody tr th:only-of-type {\n",
       "        vertical-align: middle;\n",
       "    }\n",
       "\n",
       "    .dataframe tbody tr th {\n",
       "        vertical-align: top;\n",
       "    }\n",
       "\n",
       "    .dataframe thead th {\n",
       "        text-align: right;\n",
       "    }\n",
       "</style>\n",
       "<table border=\"1\" class=\"dataframe\">\n",
       "  <thead>\n",
       "    <tr style=\"text-align: right;\">\n",
       "      <th></th>\n",
       "      <th>Open</th>\n",
       "      <th>High</th>\n",
       "      <th>Low</th>\n",
       "      <th>Close</th>\n",
       "      <th>Adj Close</th>\n",
       "      <th>Volume</th>\n",
       "    </tr>\n",
       "    <tr>\n",
       "      <th>Date</th>\n",
       "      <th></th>\n",
       "      <th></th>\n",
       "      <th></th>\n",
       "      <th></th>\n",
       "      <th></th>\n",
       "      <th></th>\n",
       "    </tr>\n",
       "  </thead>\n",
       "  <tbody>\n",
       "    <tr>\n",
       "      <th>2018-12-24 00:00:00-05:00</th>\n",
       "      <td>121.900002</td>\n",
       "      <td>122.540001</td>\n",
       "      <td>119.669998</td>\n",
       "      <td>119.699997</td>\n",
       "      <td>112.055878</td>\n",
       "      <td>14488500</td>\n",
       "    </tr>\n",
       "    <tr>\n",
       "      <th>2018-12-26 00:00:00-05:00</th>\n",
       "      <td>120.339996</td>\n",
       "      <td>125.519997</td>\n",
       "      <td>119.349998</td>\n",
       "      <td>125.459999</td>\n",
       "      <td>117.448036</td>\n",
       "      <td>12512300</td>\n",
       "    </tr>\n",
       "    <tr>\n",
       "      <th>2018-12-27 00:00:00-05:00</th>\n",
       "      <td>123.760002</td>\n",
       "      <td>126.589996</td>\n",
       "      <td>121.910004</td>\n",
       "      <td>126.589996</td>\n",
       "      <td>118.505882</td>\n",
       "      <td>16128500</td>\n",
       "    </tr>\n",
       "    <tr>\n",
       "      <th>2018-12-28 00:00:00-05:00</th>\n",
       "      <td>127.500000</td>\n",
       "      <td>128.309998</td>\n",
       "      <td>125.730003</td>\n",
       "      <td>126.430000</td>\n",
       "      <td>118.356110</td>\n",
       "      <td>11668700</td>\n",
       "    </tr>\n",
       "    <tr>\n",
       "      <th>2018-12-31 00:00:00-05:00</th>\n",
       "      <td>127.379997</td>\n",
       "      <td>127.730003</td>\n",
       "      <td>126.279999</td>\n",
       "      <td>127.629997</td>\n",
       "      <td>119.479462</td>\n",
       "      <td>9414800</td>\n",
       "    </tr>\n",
       "  </tbody>\n",
       "</table>\n",
       "</div>"
      ],
      "text/plain": [
       "                                 Open        High         Low       Close  \\\n",
       "Date                                                                        \n",
       "2018-12-24 00:00:00-05:00  121.900002  122.540001  119.669998  119.699997   \n",
       "2018-12-26 00:00:00-05:00  120.339996  125.519997  119.349998  125.459999   \n",
       "2018-12-27 00:00:00-05:00  123.760002  126.589996  121.910004  126.589996   \n",
       "2018-12-28 00:00:00-05:00  127.500000  128.309998  125.730003  126.430000   \n",
       "2018-12-31 00:00:00-05:00  127.379997  127.730003  126.279999  127.629997   \n",
       "\n",
       "                            Adj Close    Volume  \n",
       "Date                                             \n",
       "2018-12-24 00:00:00-05:00  112.055878  14488500  \n",
       "2018-12-26 00:00:00-05:00  117.448036  12512300  \n",
       "2018-12-27 00:00:00-05:00  118.505882  16128500  \n",
       "2018-12-28 00:00:00-05:00  118.356110  11668700  \n",
       "2018-12-31 00:00:00-05:00  119.479462   9414800  "
      ]
     },
     "execution_count": 5,
     "metadata": {},
     "output_type": "execute_result"
    }
   ],
   "source": [
    "data.tail()"
   ]
  },
  {
   "cell_type": "code",
   "execution_count": 6,
   "metadata": {},
   "outputs": [
    {
     "data": {
      "text/html": [
       "<div>\n",
       "<style scoped>\n",
       "    .dataframe tbody tr th:only-of-type {\n",
       "        vertical-align: middle;\n",
       "    }\n",
       "\n",
       "    .dataframe tbody tr th {\n",
       "        vertical-align: top;\n",
       "    }\n",
       "\n",
       "    .dataframe thead th {\n",
       "        text-align: right;\n",
       "    }\n",
       "</style>\n",
       "<table border=\"1\" class=\"dataframe\">\n",
       "  <thead>\n",
       "    <tr style=\"text-align: right;\">\n",
       "      <th></th>\n",
       "      <th>Date</th>\n",
       "      <th>Open</th>\n",
       "      <th>High</th>\n",
       "      <th>Low</th>\n",
       "      <th>Close</th>\n",
       "      <th>AdjClose</th>\n",
       "      <th>Volume</th>\n",
       "    </tr>\n",
       "  </thead>\n",
       "  <tbody>\n",
       "    <tr>\n",
       "      <th>0</th>\n",
       "      <td>2013-01-02</td>\n",
       "      <td>74.529999</td>\n",
       "      <td>75.150002</td>\n",
       "      <td>74.500000</td>\n",
       "      <td>75.139999</td>\n",
       "      <td>62.719402</td>\n",
       "      <td>5037200</td>\n",
       "    </tr>\n",
       "    <tr>\n",
       "      <th>1</th>\n",
       "      <td>2013-01-03</td>\n",
       "      <td>75.120003</td>\n",
       "      <td>75.370003</td>\n",
       "      <td>74.839996</td>\n",
       "      <td>75.029999</td>\n",
       "      <td>62.627575</td>\n",
       "      <td>2634600</td>\n",
       "    </tr>\n",
       "    <tr>\n",
       "      <th>2</th>\n",
       "      <td>2013-01-04</td>\n",
       "      <td>75.139999</td>\n",
       "      <td>75.519997</td>\n",
       "      <td>74.989998</td>\n",
       "      <td>75.410004</td>\n",
       "      <td>62.944786</td>\n",
       "      <td>2512900</td>\n",
       "    </tr>\n",
       "    <tr>\n",
       "      <th>3</th>\n",
       "      <td>2013-01-07</td>\n",
       "      <td>75.180000</td>\n",
       "      <td>75.279999</td>\n",
       "      <td>74.949997</td>\n",
       "      <td>75.209999</td>\n",
       "      <td>62.777840</td>\n",
       "      <td>2511200</td>\n",
       "    </tr>\n",
       "    <tr>\n",
       "      <th>4</th>\n",
       "      <td>2013-01-08</td>\n",
       "      <td>75.110001</td>\n",
       "      <td>75.180000</td>\n",
       "      <td>74.699997</td>\n",
       "      <td>75.010002</td>\n",
       "      <td>62.610920</td>\n",
       "      <td>1407900</td>\n",
       "    </tr>\n",
       "  </tbody>\n",
       "</table>\n",
       "</div>"
      ],
      "text/plain": [
       "         Date       Open       High        Low      Close   AdjClose   Volume\n",
       "0  2013-01-02  74.529999  75.150002  74.500000  75.139999  62.719402  5037200\n",
       "1  2013-01-03  75.120003  75.370003  74.839996  75.029999  62.627575  2634600\n",
       "2  2013-01-04  75.139999  75.519997  74.989998  75.410004  62.944786  2512900\n",
       "3  2013-01-07  75.180000  75.279999  74.949997  75.209999  62.777840  2511200\n",
       "4  2013-01-08  75.110001  75.180000  74.699997  75.010002  62.610920  1407900"
      ]
     },
     "execution_count": 6,
     "metadata": {},
     "output_type": "execute_result"
    }
   ],
   "source": [
    "# Transform the index to column\n",
    "data = data.reset_index()\n",
    "\n",
    "# Convert the data type from datetime to date\n",
    "data['Date'] = data['Date'].dt.date\n",
    "\n",
    "data.columns = ['Date','Open','High','Low','Close','AdjClose','Volume']\n",
    "\n",
    "data.head()"
   ]
  },
  {
   "cell_type": "code",
   "execution_count": 7,
   "metadata": {},
   "outputs": [
    {
     "name": "stdout",
     "output_type": "stream",
     "text": [
      "<class 'pandas.core.frame.DataFrame'>\n",
      "RangeIndex: 1510 entries, 0 to 1509\n",
      "Data columns (total 7 columns):\n",
      " #   Column    Non-Null Count  Dtype  \n",
      "---  ------    --------------  -----  \n",
      " 0   Date      1510 non-null   object \n",
      " 1   Open      1510 non-null   float64\n",
      " 2   High      1510 non-null   float64\n",
      " 3   Low       1510 non-null   float64\n",
      " 4   Close     1510 non-null   float64\n",
      " 5   AdjClose  1510 non-null   float64\n",
      " 6   Volume    1510 non-null   int64  \n",
      "dtypes: float64(5), int64(1), object(1)\n",
      "memory usage: 82.7+ KB\n"
     ]
    }
   ],
   "source": [
    "data.info()"
   ]
  },
  {
   "cell_type": "code",
   "execution_count": 8,
   "metadata": {},
   "outputs": [
    {
     "name": "stdout",
     "output_type": "stream",
     "text": [
      "The data start date: 2013/01/02\n",
      "The data end date: 2018/12/31\n"
     ]
    }
   ],
   "source": [
    "min_date = data.Date.min().strftime(\"%Y/%m/%d\")\n",
    "max_date = data.Date.max().strftime(\"%Y/%m/%d\")\n",
    "\n",
    "print(f'The data start date: {min_date}')\n",
    "print(f'The data end date: {max_date}')"
   ]
  },
  {
   "cell_type": "markdown",
   "metadata": {},
   "source": [
    "## Write to csv"
   ]
  },
  {
   "cell_type": "code",
   "execution_count": 9,
   "metadata": {},
   "outputs": [],
   "source": [
    "import os"
   ]
  },
  {
   "cell_type": "code",
   "execution_count": 10,
   "metadata": {},
   "outputs": [],
   "source": [
    "# Create folder specific to the date range\n",
    "# Directory \n",
    "directory = f\"VTI_{start_date}_{end_date}\"\n",
    "\n",
    "# Parent Directory path \n",
    "parent_dir = \"./data/\"\n",
    "    \n",
    "# Path \n",
    "path = os.path.join(parent_dir, directory) \n",
    "    \n",
    "# Create the directory \n",
    "os.makedirs(path) "
   ]
  },
  {
   "cell_type": "code",
   "execution_count": 11,
   "metadata": {},
   "outputs": [
    {
     "data": {
      "text/plain": [
       "'./data/VTI_2013-01-02_2019-01-01'"
      ]
     },
     "execution_count": 11,
     "metadata": {},
     "output_type": "execute_result"
    }
   ],
   "source": [
    "path"
   ]
  },
  {
   "cell_type": "code",
   "execution_count": 12,
   "metadata": {},
   "outputs": [],
   "source": [
    "file_name = \"VTI.csv\""
   ]
  },
  {
   "cell_type": "code",
   "execution_count": 13,
   "metadata": {},
   "outputs": [],
   "source": [
    "data.to_csv(f\"{path}/{file_name}\", index=False)"
   ]
  },
  {
   "cell_type": "code",
   "execution_count": null,
   "metadata": {},
   "outputs": [],
   "source": []
  }
 ],
 "metadata": {
  "kernelspec": {
   "display_name": "Python 3 (ipykernel)",
   "language": "python",
   "name": "python3"
  },
  "language_info": {
   "codemirror_mode": {
    "name": "ipython",
    "version": 3
   },
   "file_extension": ".py",
   "mimetype": "text/x-python",
   "name": "python",
   "nbconvert_exporter": "python",
   "pygments_lexer": "ipython3",
   "version": "3.8.5"
  }
 },
 "nbformat": 4,
 "nbformat_minor": 4
}
