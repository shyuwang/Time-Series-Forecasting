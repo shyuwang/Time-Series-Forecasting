{
 "cells": [
  {
   "cell_type": "code",
   "execution_count": 1,
   "metadata": {
    "collapsed": true,
    "jupyter": {
     "outputs_hidden": true
    }
   },
   "outputs": [
    {
     "name": "stdout",
     "output_type": "stream",
     "text": [
      "Collecting package metadata (current_repodata.json): done\n",
      "Solving environment: \\ \n",
      "The environment is inconsistent, please check the package plan carefully\n",
      "The following packages are causing the inconsistency:\n",
      "\n",
      "  - defaults/osx-64::anaconda==2020.11=py38_0\n",
      "  - defaults/noarch::qtconsole==4.7.7=py_0\n",
      "  - defaults/noarch::jupyter_client==6.1.7=py_0\n",
      "  - defaults/noarch::seaborn==0.11.0=py_0\n",
      "  - defaults/osx-64::conda-build==3.20.5=py38_1\n",
      "  - defaults/noarch::jupyter_console==6.2.0=py_0\n",
      "  - defaults/noarch::anaconda-project==0.8.4=py_0\n",
      "  - defaults/osx-64::_ipyw_jlab_nb_ext_conf==0.1.0=py38_0\n",
      "  - defaults/osx-64::distributed==2.30.1=py38hecd8cb5_0\n",
      "  - defaults/noarch::ipywidgets==7.5.1=py_1\n",
      "  - defaults/noarch::nbclient==0.5.1=py_0\n",
      "  - defaults/osx-64::terminado==0.9.1=py38_0\n",
      "  - defaults/osx-64::scikit-image==0.17.2=py38h81aa140_0\n",
      "  - defaults/osx-64::widgetsnbextension==3.5.1=py38_0\n",
      "  - defaults/osx-64::anaconda-navigator==1.10.0=py38_0\n",
      "  - defaults/osx-64::spyder-kernels==1.9.4=py38_0\n",
      "  - defaults/osx-64::bokeh==2.2.3=py38_0\n",
      "  - defaults/noarch::dask==2.30.0=py_0\n",
      "  - defaults/osx-64::matplotlib-base==3.3.2=py38h181983e_0\n",
      "  - defaults/osx-64::jupyter==1.0.0=py38_7\n",
      "  - defaults/osx-64::ipykernel==5.3.4=py38h5ca1d4c_0\n",
      "  - defaults/osx-64::notebook==6.1.4=py38_0\n",
      "  - defaults/osx-64::matplotlib==3.3.2=0\n",
      "  - defaults/osx-64::nbconvert==6.0.7=py38_0\n",
      "  - defaults/osx-64::spyder==4.1.5=py38_0\n",
      "  - defaults/osx-64::xlwings==0.20.8=py38_0\n",
      "failed with initial frozen solve. Retrying with flexible solve.\n",
      "Solving environment: failed with repodata from current_repodata.json, will retry with next repodata source.\n",
      "Collecting package metadata (repodata.json): done\n",
      "Solving environment: \\ \n",
      "The environment is inconsistent, please check the package plan carefully\n",
      "The following packages are causing the inconsistency:\n",
      "\n",
      "  - defaults/osx-64::anaconda==2020.11=py38_0\n",
      "  - defaults/noarch::qtconsole==4.7.7=py_0\n",
      "  - defaults/noarch::jupyter_client==6.1.7=py_0\n",
      "  - defaults/noarch::seaborn==0.11.0=py_0\n",
      "  - defaults/osx-64::conda-build==3.20.5=py38_1\n",
      "  - defaults/noarch::jupyter_console==6.2.0=py_0\n",
      "  - defaults/noarch::anaconda-project==0.8.4=py_0\n",
      "  - defaults/osx-64::_ipyw_jlab_nb_ext_conf==0.1.0=py38_0\n",
      "  - defaults/osx-64::distributed==2.30.1=py38hecd8cb5_0\n",
      "  - defaults/noarch::ipywidgets==7.5.1=py_1\n",
      "  - defaults/noarch::nbclient==0.5.1=py_0\n",
      "  - defaults/osx-64::terminado==0.9.1=py38_0\n",
      "  - defaults/osx-64::scikit-image==0.17.2=py38h81aa140_0\n",
      "  - defaults/osx-64::widgetsnbextension==3.5.1=py38_0\n",
      "  - defaults/osx-64::anaconda-navigator==1.10.0=py38_0\n",
      "  - defaults/osx-64::spyder-kernels==1.9.4=py38_0\n",
      "  - defaults/osx-64::bokeh==2.2.3=py38_0\n",
      "  - defaults/noarch::dask==2.30.0=py_0\n",
      "  - defaults/osx-64::matplotlib-base==3.3.2=py38h181983e_0\n",
      "  - defaults/osx-64::jupyter==1.0.0=py38_7\n",
      "  - defaults/osx-64::ipykernel==5.3.4=py38h5ca1d4c_0\n",
      "  - defaults/osx-64::notebook==6.1.4=py38_0\n",
      "  - defaults/osx-64::matplotlib==3.3.2=0\n",
      "  - defaults/osx-64::nbconvert==6.0.7=py38_0\n",
      "  - defaults/osx-64::spyder==4.1.5=py38_0\n",
      "  - defaults/osx-64::xlwings==0.20.8=py38_0\n",
      "done\n",
      "\n",
      "## Package Plan ##\n",
      "\n",
      "  environment location: /Users/wangshuyuan/opt/anaconda3\n",
      "\n",
      "  added / updated specs:\n",
      "    - ephem\n",
      "\n",
      "\n",
      "The following packages will be downloaded:\n",
      "\n",
      "    package                    |            build\n",
      "    ---------------------------|-----------------\n",
      "    _anaconda_depends-2020.07  |           py38_0           5 KB  anaconda\n",
      "    anaconda-custom            |           py38_1          32 KB  anaconda\n",
      "    anyio-3.5.0                |   py38hecd8cb5_0         158 KB  anaconda\n",
      "    ca-certificates-2022.4.26  |       hecd8cb5_0         132 KB  anaconda\n",
      "    certifi-2021.10.8          |   py38hecd8cb5_2         156 KB  anaconda\n",
      "    conda-4.12.0               |   py38hecd8cb5_0        16.9 MB  anaconda\n",
      "    ephem-4.1.2                |   py38hca72f7f_0         1.4 MB  anaconda\n",
      "    fsspec-2022.2.0            |     pyhd3eb1b0_0          92 KB  anaconda\n",
      "    jupyter_server-1.13.5      |     pyhd3eb1b0_0         261 KB  anaconda\n",
      "    jupyterlab-3.3.2           |     pyhd3eb1b0_0         5.9 MB  anaconda\n",
      "    jupyterlab_server-2.10.3   |     pyhd3eb1b0_1          47 KB  anaconda\n",
      "    libllvm9-9.0.1             |       h21ff451_1        19.1 MB  anaconda\n",
      "    nbclassic-0.3.5            |     pyhd3eb1b0_0          22 KB  anaconda\n",
      "    openssl-1.1.1n             |       hca72f7f_0         3.5 MB  anaconda\n",
      "    psutil-5.8.0               |   py38h9ed2024_1         347 KB  anaconda\n",
      "    snappy-1.1.8               |       hb1e8313_0          60 KB  anaconda\n",
      "    sniffio-1.2.0              |   py38hecd8cb5_1          15 KB  anaconda\n",
      "    tbb-2021.3.0               |       hf7b0b51_0         175 KB  anaconda\n",
      "    tornado-6.1                |   py38h9ed2024_0         644 KB  anaconda\n",
      "    websocket-client-0.58.0    |   py38hecd8cb5_4          69 KB  anaconda\n",
      "    ------------------------------------------------------------\n",
      "                                           Total:        49.0 MB\n",
      "\n",
      "The following NEW packages will be INSTALLED:\n",
      "\n",
      "  _anaconda_depends  anaconda/osx-64::_anaconda_depends-2020.07-py38_0\n",
      "  anyio              anaconda/osx-64::anyio-3.5.0-py38hecd8cb5_0\n",
      "  ephem              anaconda/osx-64::ephem-4.1.2-py38hca72f7f_0\n",
      "  fsspec             anaconda/noarch::fsspec-2022.2.0-pyhd3eb1b0_0\n",
      "  jupyter_server     anaconda/noarch::jupyter_server-1.13.5-pyhd3eb1b0_0\n",
      "  jupyterlab         anaconda/noarch::jupyterlab-3.3.2-pyhd3eb1b0_0\n",
      "  jupyterlab_server  anaconda/noarch::jupyterlab_server-2.10.3-pyhd3eb1b0_1\n",
      "  libllvm9           anaconda/osx-64::libllvm9-9.0.1-h21ff451_1\n",
      "  nbclassic          anaconda/noarch::nbclassic-0.3.5-pyhd3eb1b0_0\n",
      "  psutil             anaconda/osx-64::psutil-5.8.0-py38h9ed2024_1\n",
      "  snappy             anaconda/osx-64::snappy-1.1.8-hb1e8313_0\n",
      "  sniffio            anaconda/osx-64::sniffio-1.2.0-py38hecd8cb5_1\n",
      "  tbb                anaconda/osx-64::tbb-2021.3.0-hf7b0b51_0\n",
      "  tornado            anaconda/osx-64::tornado-6.1-py38h9ed2024_0\n",
      "  websocket-client   anaconda/osx-64::websocket-client-0.58.0-py38hecd8cb5_4\n",
      "\n",
      "The following packages will be UPDATED:\n",
      "\n",
      "  ca-certificates                              2020.10.14-0 --> 2022.4.26-hecd8cb5_0\n",
      "  certifi            pkgs/main/noarch::certifi-2020.6.20-p~ --> anaconda/osx-64::certifi-2021.10.8-py38hecd8cb5_2\n",
      "  conda              conda-forge::conda-4.10.3-py38h50d173~ --> anaconda::conda-4.12.0-py38hecd8cb5_0\n",
      "  openssl            conda-forge::openssl-1.1.1h-haf1e3a3_0 --> anaconda::openssl-1.1.1n-hca72f7f_0\n",
      "\n",
      "The following packages will be SUPERSEDED by a higher-priority channel:\n",
      "\n",
      "  anaconda               pkgs/main::anaconda-2020.11-py38_0 --> anaconda::anaconda-custom-py38_1\n",
      "\n",
      "\n",
      "\n",
      "Downloading and Extracting Packages\n",
      "jupyterlab_server-2. | 47 KB     | ##################################### | 100% \n",
      "sniffio-1.2.0        | 15 KB     | ##################################### | 100% \n",
      "tbb-2021.3.0         | 175 KB    | ##################################### | 100% \n",
      "ephem-4.1.2          | 1.4 MB    | ##################################### | 100% \n",
      "certifi-2021.10.8    | 156 KB    | ##################################### | 100% \n",
      "fsspec-2022.2.0      | 92 KB     | ##################################### | 100% \n",
      "libllvm9-9.0.1       | 19.1 MB   | ##################################### | 100% \n",
      "tornado-6.1          | 644 KB    | ##################################### | 100% \n",
      "anyio-3.5.0          | 158 KB    | ##################################### | 100% \n",
      "psutil-5.8.0         | 347 KB    | ##################################### | 100% \n",
      "_anaconda_depends-20 | 5 KB      | ##################################### | 100% \n",
      "openssl-1.1.1n       | 3.5 MB    | ##################################### | 100% \n",
      "conda-4.12.0         | 16.9 MB   | ##################################### | 100% \n",
      "jupyterlab-3.3.2     | 5.9 MB    | ##################################### | 100% \n",
      "nbclassic-0.3.5      | 22 KB     | ##################################### | 100% \n",
      "websocket-client-0.5 | 69 KB     | ##################################### | 100% \n",
      "snappy-1.1.8         | 60 KB     | ##################################### | 100% \n",
      "anaconda-custom      | 32 KB     | ##################################### | 100% \n",
      "ca-certificates-2022 | 132 KB    | ##################################### | 100% \n",
      "jupyter_server-1.13. | 261 KB    | ##################################### | 100% \n",
      "Preparing transaction: done\n",
      "Verifying transaction: done\n",
      "Executing transaction: done\n",
      "\n",
      "Note: you may need to restart the kernel to use updated packages.\n"
     ]
    }
   ],
   "source": [
    "#conda install -c anaconda ephem"
   ]
  },
  {
   "cell_type": "code",
   "execution_count": 2,
   "metadata": {
    "collapsed": true,
    "jupyter": {
     "outputs_hidden": true
    }
   },
   "outputs": [
    {
     "name": "stdout",
     "output_type": "stream",
     "text": [
      "Collecting package metadata (current_repodata.json): done\n",
      "Solving environment: failed with initial frozen solve. Retrying with flexible solve.\n",
      "Solving environment: failed with repodata from current_repodata.json, will retry with next repodata source.\n",
      "Collecting package metadata (repodata.json): done\n",
      "Solving environment: done\n",
      "\n",
      "## Package Plan ##\n",
      "\n",
      "  environment location: /Users/wangshuyuan/opt/anaconda3\n",
      "\n",
      "  added / updated specs:\n",
      "    - pystan\n",
      "\n",
      "\n",
      "The following packages will be downloaded:\n",
      "\n",
      "    package                    |            build\n",
      "    ---------------------------|-----------------\n",
      "    arviz-0.12.0               |     pyhd8ed1ab_0         1.4 MB  conda-forge\n",
      "    ca-certificates-2022.5.18.1|       h033912b_0         145 KB  conda-forge\n",
      "    cctools-949.0.1            |       h22b1bf0_0          16 KB  conda-forge\n",
      "    cctools_osx-64-949.0.1     |       h5ba7a2e_0         1.8 MB  conda-forge\n",
      "    certifi-2022.5.18.1        |   py38h50d1736_0         150 KB  conda-forge\n",
      "    cftime-1.6.0               |   py38h4221b65_0         198 KB  conda-forge\n",
      "    clang-9.0.1                |default_hf57f61e_0        22.1 MB  conda-forge\n",
      "    clang_osx-64-9.0.1         |       h05bbb7f_0          14 KB  conda-forge\n",
      "    clangxx-9.0.1              |default_hf57f61e_0         122 KB  conda-forge\n",
      "    clangxx_osx-64-9.0.1       |       h05bbb7f_2          14 KB  conda-forge\n",
      "    compiler-rt-9.0.1          |       h6a512c6_3          66 KB  conda-forge\n",
      "    compiler-rt_osx-64-9.0.1   |       h99342c6_3         2.8 MB  conda-forge\n",
      "    conda-4.12.0               |   py38h50d1736_0        1020 KB  conda-forge\n",
      "    hdf4-4.2.13                |                0         906 KB  conda-forge\n",
      "    ld64-530                   |                0          14 KB  conda-forge\n",
      "    ld64_osx-64-530            |       h3c32e8a_0         1.3 MB  conda-forge\n",
      "    libnetcdf-4.7.3            |       he3b6227_0         814 KB\n",
      "    netcdf4-1.5.3              |   py38h28545a2_0         438 KB\n",
      "    openssl-1.1.1o             |       hfe4f2af_0         1.9 MB  conda-forge\n",
      "    pystan-2.19.1.1            |   py38h4f17bb1_1        17.3 MB  conda-forge\n",
      "    tapi-1000.10.8             |       h879752b_4         4.9 MB  conda-forge\n",
      "    xarray-2022.3.0            |     pyhd8ed1ab_0         650 KB  conda-forge\n",
      "    ------------------------------------------------------------\n",
      "                                           Total:        57.9 MB\n",
      "\n",
      "The following NEW packages will be INSTALLED:\n",
      "\n",
      "  arviz              conda-forge/noarch::arviz-0.12.0-pyhd8ed1ab_0\n",
      "  cctools            conda-forge/osx-64::cctools-949.0.1-h22b1bf0_0\n",
      "  cctools_osx-64     conda-forge/osx-64::cctools_osx-64-949.0.1-h5ba7a2e_0\n",
      "  cftime             conda-forge/osx-64::cftime-1.6.0-py38h4221b65_0\n",
      "  clang              conda-forge/osx-64::clang-9.0.1-default_hf57f61e_0\n",
      "  clang_osx-64       conda-forge/osx-64::clang_osx-64-9.0.1-h05bbb7f_0\n",
      "  clangxx            conda-forge/osx-64::clangxx-9.0.1-default_hf57f61e_0\n",
      "  clangxx_osx-64     conda-forge/osx-64::clangxx_osx-64-9.0.1-h05bbb7f_2\n",
      "  compiler-rt        conda-forge/osx-64::compiler-rt-9.0.1-h6a512c6_3\n",
      "  compiler-rt_osx-64 conda-forge/noarch::compiler-rt_osx-64-9.0.1-h99342c6_3\n",
      "  hdf4               conda-forge/osx-64::hdf4-4.2.13-0\n",
      "  ld64               conda-forge/osx-64::ld64-530-0\n",
      "  ld64_osx-64        conda-forge/osx-64::ld64_osx-64-530-h3c32e8a_0\n",
      "  libnetcdf          pkgs/main/osx-64::libnetcdf-4.7.3-he3b6227_0\n",
      "  netcdf4            pkgs/main/osx-64::netcdf4-1.5.3-py38h28545a2_0\n",
      "  pystan             conda-forge/osx-64::pystan-2.19.1.1-py38h4f17bb1_1\n",
      "  tapi               conda-forge/osx-64::tapi-1000.10.8-h879752b_4\n",
      "  xarray             conda-forge/noarch::xarray-2022.3.0-pyhd8ed1ab_0\n",
      "\n",
      "The following packages will be UPDATED:\n",
      "\n",
      "  ca-certificates    anaconda::ca-certificates-2022.4.26-h~ --> conda-forge::ca-certificates-2022.5.18.1-h033912b_0\n",
      "  certifi            anaconda::certifi-2021.10.8-py38hecd8~ --> conda-forge::certifi-2022.5.18.1-py38h50d1736_0\n",
      "  openssl               anaconda::openssl-1.1.1n-hca72f7f_0 --> conda-forge::openssl-1.1.1o-hfe4f2af_0\n",
      "\n",
      "The following packages will be SUPERSEDED by a higher-priority channel:\n",
      "\n",
      "  conda               anaconda::conda-4.12.0-py38hecd8cb5_0 --> conda-forge::conda-4.12.0-py38h50d1736_0\n",
      "\n",
      "\n",
      "\n",
      "Downloading and Extracting Packages\n",
      "ld64-530             | 14 KB     | ##################################### | 100% \n",
      "libnetcdf-4.7.3      | 814 KB    | ##################################### | 100% \n",
      "clangxx_osx-64-9.0.1 | 14 KB     | ##################################### | 100% \n",
      "conda-4.12.0         | 1020 KB   | ##################################### | 100% \n",
      "ld64_osx-64-530      | 1.3 MB    | ##################################### | 100% \n",
      "tapi-1000.10.8       | 4.9 MB    | ##################################### | 100% \n",
      "pystan-2.19.1.1      | 17.3 MB   | ##################################### | 100% \n",
      "compiler-rt-9.0.1    | 66 KB     | ##################################### | 100% \n",
      "clangxx-9.0.1        | 122 KB    | ##################################### | 100% \n",
      "xarray-2022.3.0      | 650 KB    | ##################################### | 100% \n",
      "cctools-949.0.1      | 16 KB     | ##################################### | 100% \n",
      "clang-9.0.1          | 22.1 MB   | ##################################### | 100% \n",
      "compiler-rt_osx-64-9 | 2.8 MB    | ##################################### | 100% \n",
      "cftime-1.6.0         | 198 KB    | ##################################### | 100% \n",
      "arviz-0.12.0         | 1.4 MB    | ##################################### | 100% \n",
      "openssl-1.1.1o       | 1.9 MB    | ##################################### | 100% \n",
      "certifi-2022.5.18.1  | 150 KB    | ##################################### | 100% \n",
      "cctools_osx-64-949.0 | 1.8 MB    | ##################################### | 100% \n",
      "clang_osx-64-9.0.1   | 14 KB     | ##################################### | 100% \n",
      "hdf4-4.2.13          | 906 KB    | ##################################### | 100% \n",
      "ca-certificates-2022 | 145 KB    | ##################################### | 100% \n",
      "netcdf4-1.5.3        | 438 KB    | ##################################### | 100% \n",
      "Preparing transaction: done\n",
      "Verifying transaction: done\n",
      "Executing transaction: done\n",
      "\n",
      "Note: you may need to restart the kernel to use updated packages.\n"
     ]
    }
   ],
   "source": [
    "#conda install -c conda-forge pystan"
   ]
  },
  {
   "cell_type": "code",
   "execution_count": 3,
   "metadata": {
    "collapsed": true,
    "jupyter": {
     "outputs_hidden": true
    }
   },
   "outputs": [
    {
     "name": "stdout",
     "output_type": "stream",
     "text": [
      "Collecting package metadata (current_repodata.json): done\n",
      "Solving environment: failed with initial frozen solve. Retrying with flexible solve.\n",
      "Solving environment: failed with repodata from current_repodata.json, will retry with next repodata source.\n",
      "Collecting package metadata (repodata.json): done\n",
      "Solving environment: done\n",
      "\n",
      "\n",
      "==> WARNING: A newer version of conda exists. <==\n",
      "  current version: 4.12.0\n",
      "  latest version: 4.13.0\n",
      "\n",
      "Please update conda by running\n",
      "\n",
      "    $ conda update -n base conda\n",
      "\n",
      "\n",
      "\n",
      "## Package Plan ##\n",
      "\n",
      "  environment location: /Users/wangshuyuan/opt/anaconda3\n",
      "\n",
      "  added / updated specs:\n",
      "    - fbprophet\n",
      "\n",
      "\n",
      "The following packages will be downloaded:\n",
      "\n",
      "    package                    |            build\n",
      "    ---------------------------|-----------------\n",
      "    clang-10.0.1               |default_hf57f61e_1        12.1 MB  conda-forge\n",
      "    clang_osx-64-10.0.1        |      h05bbb7f_10          15 KB  conda-forge\n",
      "    clangxx-10.0.1             |default_hf57f61e_1         123 KB  conda-forge\n",
      "    clangxx_osx-64-10.0.1      |      h05bbb7f_10          15 KB  conda-forge\n",
      "    compiler-rt-10.0.1         |       he6db49b_0          77 KB  conda-forge\n",
      "    compiler-rt_osx-64-10.0.1  |       h033240e_0         2.9 MB  conda-forge\n",
      "    convertdate-2.4.0          |     pyhd8ed1ab_0          38 KB  conda-forge\n",
      "    fbprophet-0.7.1            |   py38h11c0d25_0         647 KB  conda-forge\n",
      "    hijri-converter-2.2.4      |     pyhd8ed1ab_0          18 KB  conda-forge\n",
      "    holidays-0.13              |     pyhd8ed1ab_0          85 KB  conda-forge\n",
      "    korean_lunar_calendar-0.2.1|     pyh9f0ad1d_0          10 KB  conda-forge\n",
      "    ld64_osx-64-530            |       h3c32e8a_7         1.3 MB  conda-forge\n",
      "    libclang-cpp10-10.0.1      |default_hf57f61e_1        11.8 MB  conda-forge\n",
      "    libcxx-14.0.4              |       hc203e6f_0         1.3 MB  conda-forge\n",
      "    llvm-tools-10.0.1          |       h40edb58_5         3.5 MB\n",
      "    lunarcalendar-0.0.9        |             py_0          20 KB  conda-forge\n",
      "    pymeeus-0.5.10             |     pyhd8ed1ab_0         534 KB  conda-forge\n",
      "    pystan-2.19.1.1            |   py38h6be0db6_2        17.3 MB  conda-forge\n",
      "    ------------------------------------------------------------\n",
      "                                           Total:        51.8 MB\n",
      "\n",
      "The following NEW packages will be INSTALLED:\n",
      "\n",
      "  convertdate        conda-forge/noarch::convertdate-2.4.0-pyhd8ed1ab_0\n",
      "  fbprophet          conda-forge/osx-64::fbprophet-0.7.1-py38h11c0d25_0\n",
      "  hijri-converter    conda-forge/noarch::hijri-converter-2.2.4-pyhd8ed1ab_0\n",
      "  holidays           conda-forge/noarch::holidays-0.13-pyhd8ed1ab_0\n",
      "  korean_lunar_cale~ conda-forge/noarch::korean_lunar_calendar-0.2.1-pyh9f0ad1d_0\n",
      "  libclang-cpp10     conda-forge/osx-64::libclang-cpp10-10.0.1-default_hf57f61e_1\n",
      "  llvm-tools         pkgs/main/osx-64::llvm-tools-10.0.1-h40edb58_5\n",
      "  lunarcalendar      conda-forge/noarch::lunarcalendar-0.0.9-py_0\n",
      "  pymeeus            conda-forge/noarch::pymeeus-0.5.10-pyhd8ed1ab_0\n",
      "\n",
      "The following packages will be REMOVED:\n",
      "\n",
      "  cctools-949.0.1-h22b1bf0_0\n",
      "  ld64-530-0\n",
      "\n",
      "The following packages will be UPDATED:\n",
      "\n",
      "  clang                            9.0.1-default_hf57f61e_0 --> 10.0.1-default_hf57f61e_1\n",
      "  clang_osx-64                             9.0.1-h05bbb7f_0 --> 10.0.1-h05bbb7f_10\n",
      "  clangxx                          9.0.1-default_hf57f61e_0 --> 10.0.1-default_hf57f61e_1\n",
      "  clangxx_osx-64                           9.0.1-h05bbb7f_2 --> 10.0.1-h05bbb7f_10\n",
      "  compiler-rt                              9.0.1-h6a512c6_3 --> 10.0.1-he6db49b_0\n",
      "  compiler-rt_osx-64                       9.0.1-h99342c6_3 --> 10.0.1-h033240e_0\n",
      "  ld64_osx-64                                530-h3c32e8a_0 --> 530-h3c32e8a_7\n",
      "  libcxx                         pkgs/main::libcxx-10.0.0-1 --> conda-forge::libcxx-14.0.4-hc203e6f_0\n",
      "  pystan                            2.19.1.1-py38h4f17bb1_1 --> 2.19.1.1-py38h6be0db6_2\n",
      "\n",
      "\n",
      "\n",
      "Downloading and Extracting Packages\n",
      "libcxx-14.0.4        | 1.3 MB    | ##################################### | 100% \n",
      "pymeeus-0.5.10       | 534 KB    | ##################################### | 100% \n",
      "compiler-rt-10.0.1   | 77 KB     | ##################################### | 100% \n",
      "ld64_osx-64-530      | 1.3 MB    | ##################################### | 100% \n",
      "clangxx_osx-64-10.0. | 15 KB     | ##################################### | 100% \n",
      "pystan-2.19.1.1      | 17.3 MB   | ##################################### | 100% \n",
      "fbprophet-0.7.1      | 647 KB    | ##################################### | 100% \n",
      "llvm-tools-10.0.1    | 3.5 MB    | ##################################### | 100% \n",
      "holidays-0.13        | 85 KB     | ##################################### | 100% \n",
      "compiler-rt_osx-64-1 | 2.9 MB    | ##################################### | 100% \n",
      "convertdate-2.4.0    | 38 KB     | ##################################### | 100% \n",
      "clang_osx-64-10.0.1  | 15 KB     | ##################################### | 100% \n",
      "korean_lunar_calenda | 10 KB     | ##################################### | 100% \n",
      "clangxx-10.0.1       | 123 KB    | ##################################### | 100% \n",
      "hijri-converter-2.2. | 18 KB     | ##################################### | 100% \n",
      "clang-10.0.1         | 12.1 MB   | ##################################### | 100% \n",
      "lunarcalendar-0.0.9  | 20 KB     | ##################################### | 100% \n",
      "libclang-cpp10-10.0. | 11.8 MB   | ##################################### | 100% \n",
      "Preparing transaction: done\n",
      "Verifying transaction: done\n",
      "Executing transaction: done\n",
      "\n",
      "Note: you may need to restart the kernel to use updated packages.\n"
     ]
    }
   ],
   "source": [
    "#conda install -c conda-forge fbprophet"
   ]
  },
  {
   "cell_type": "code",
   "execution_count": 3,
   "metadata": {
    "collapsed": true,
    "jupyter": {
     "outputs_hidden": true
    }
   },
   "outputs": [
    {
     "name": "stdout",
     "output_type": "stream",
     "text": [
      "Collecting plotly\n",
      "  Downloading plotly-5.8.0-py2.py3-none-any.whl (15.2 MB)\n",
      "\u001b[K     |████████████████████████████████| 15.2 MB 1.4 MB/s eta 0:00:01\n",
      "\u001b[?25hCollecting tenacity>=6.2.0\n",
      "  Downloading tenacity-8.0.1-py3-none-any.whl (24 kB)\n",
      "Installing collected packages: tenacity, plotly\n",
      "Successfully installed plotly-5.8.0 tenacity-8.0.1\n"
     ]
    }
   ],
   "source": [
    "#!pip install --upgrade plotly"
   ]
  },
  {
   "cell_type": "code",
   "execution_count": 16,
   "metadata": {},
   "outputs": [
    {
     "name": "stdout",
     "output_type": "stream",
     "text": [
      "Prophet 0.7.1\n"
     ]
    }
   ],
   "source": [
    "import pandas as pd\n",
    "import matplotlib.pyplot as plt\n",
    "\n",
    "from fbprophet import Prophet\n",
    "print('Prophet %s' % fbprophet.__version__)"
   ]
  },
  {
   "cell_type": "markdown",
   "metadata": {},
   "source": [
    "# Car sales dataset\n",
    "\n",
    "The monthly car sales dataset is a univariate time series dataset that contains both a trend and seasonality. The dataset has 108 months of data."
   ]
  },
  {
   "cell_type": "markdown",
   "metadata": {},
   "source": [
    "## Load data"
   ]
  },
  {
   "cell_type": "code",
   "execution_count": 7,
   "metadata": {},
   "outputs": [
    {
     "data": {
      "text/html": [
       "<div>\n",
       "<style scoped>\n",
       "    .dataframe tbody tr th:only-of-type {\n",
       "        vertical-align: middle;\n",
       "    }\n",
       "\n",
       "    .dataframe tbody tr th {\n",
       "        vertical-align: top;\n",
       "    }\n",
       "\n",
       "    .dataframe thead th {\n",
       "        text-align: right;\n",
       "    }\n",
       "</style>\n",
       "<table border=\"1\" class=\"dataframe\">\n",
       "  <thead>\n",
       "    <tr style=\"text-align: right;\">\n",
       "      <th></th>\n",
       "      <th>Month</th>\n",
       "      <th>Sales</th>\n",
       "    </tr>\n",
       "  </thead>\n",
       "  <tbody>\n",
       "    <tr>\n",
       "      <th>0</th>\n",
       "      <td>1960-01</td>\n",
       "      <td>6550</td>\n",
       "    </tr>\n",
       "    <tr>\n",
       "      <th>1</th>\n",
       "      <td>1960-02</td>\n",
       "      <td>8728</td>\n",
       "    </tr>\n",
       "    <tr>\n",
       "      <th>2</th>\n",
       "      <td>1960-03</td>\n",
       "      <td>12026</td>\n",
       "    </tr>\n",
       "    <tr>\n",
       "      <th>3</th>\n",
       "      <td>1960-04</td>\n",
       "      <td>14395</td>\n",
       "    </tr>\n",
       "    <tr>\n",
       "      <th>4</th>\n",
       "      <td>1960-05</td>\n",
       "      <td>14587</td>\n",
       "    </tr>\n",
       "  </tbody>\n",
       "</table>\n",
       "</div>"
      ],
      "text/plain": [
       "     Month  Sales\n",
       "0  1960-01   6550\n",
       "1  1960-02   8728\n",
       "2  1960-03  12026\n",
       "3  1960-04  14395\n",
       "4  1960-05  14587"
      ]
     },
     "execution_count": 7,
     "metadata": {},
     "output_type": "execute_result"
    }
   ],
   "source": [
    "path = 'https://raw.githubusercontent.com/jbrownlee/Datasets/master/monthly-car-sales.csv'\n",
    "df = pd.read_csv(path, header=0)\n",
    "df.head()"
   ]
  },
  {
   "cell_type": "code",
   "execution_count": 8,
   "metadata": {},
   "outputs": [
    {
     "name": "stdout",
     "output_type": "stream",
     "text": [
      "<class 'pandas.core.frame.DataFrame'>\n",
      "RangeIndex: 108 entries, 0 to 107\n",
      "Data columns (total 2 columns):\n",
      " #   Column  Non-Null Count  Dtype \n",
      "---  ------  --------------  ----- \n",
      " 0   Month   108 non-null    object\n",
      " 1   Sales   108 non-null    int64 \n",
      "dtypes: int64(1), object(1)\n",
      "memory usage: 1.8+ KB\n"
     ]
    }
   ],
   "source": [
    "df.info()"
   ]
  },
  {
   "cell_type": "code",
   "execution_count": 9,
   "metadata": {},
   "outputs": [
    {
     "data": {
      "text/html": [
       "<div>\n",
       "<style scoped>\n",
       "    .dataframe tbody tr th:only-of-type {\n",
       "        vertical-align: middle;\n",
       "    }\n",
       "\n",
       "    .dataframe tbody tr th {\n",
       "        vertical-align: top;\n",
       "    }\n",
       "\n",
       "    .dataframe thead th {\n",
       "        text-align: right;\n",
       "    }\n",
       "</style>\n",
       "<table border=\"1\" class=\"dataframe\">\n",
       "  <thead>\n",
       "    <tr style=\"text-align: right;\">\n",
       "      <th></th>\n",
       "      <th>Sales</th>\n",
       "    </tr>\n",
       "  </thead>\n",
       "  <tbody>\n",
       "    <tr>\n",
       "      <th>count</th>\n",
       "      <td>108.000000</td>\n",
       "    </tr>\n",
       "    <tr>\n",
       "      <th>mean</th>\n",
       "      <td>14595.111111</td>\n",
       "    </tr>\n",
       "    <tr>\n",
       "      <th>std</th>\n",
       "      <td>4525.213913</td>\n",
       "    </tr>\n",
       "    <tr>\n",
       "      <th>min</th>\n",
       "      <td>5568.000000</td>\n",
       "    </tr>\n",
       "    <tr>\n",
       "      <th>25%</th>\n",
       "      <td>11391.250000</td>\n",
       "    </tr>\n",
       "    <tr>\n",
       "      <th>50%</th>\n",
       "      <td>14076.000000</td>\n",
       "    </tr>\n",
       "    <tr>\n",
       "      <th>75%</th>\n",
       "      <td>17595.750000</td>\n",
       "    </tr>\n",
       "    <tr>\n",
       "      <th>max</th>\n",
       "      <td>26099.000000</td>\n",
       "    </tr>\n",
       "  </tbody>\n",
       "</table>\n",
       "</div>"
      ],
      "text/plain": [
       "              Sales\n",
       "count    108.000000\n",
       "mean   14595.111111\n",
       "std     4525.213913\n",
       "min     5568.000000\n",
       "25%    11391.250000\n",
       "50%    14076.000000\n",
       "75%    17595.750000\n",
       "max    26099.000000"
      ]
     },
     "execution_count": 9,
     "metadata": {},
     "output_type": "execute_result"
    }
   ],
   "source": [
    "df.describe()"
   ]
  },
  {
   "cell_type": "code",
   "execution_count": 12,
   "metadata": {},
   "outputs": [
    {
     "data": {
      "image/png": "[encoded data removed]",
      "text/plain": [
       "<Figure size 432x288 with 1 Axes>"
      ]
     },
     "metadata": {
      "needs_background": "light"
     },
     "output_type": "display_data"
    }
   ],
   "source": [
    "df.plot()\n",
    "plt.show()"
   ]
  },
  {
   "cell_type": "markdown",
   "metadata": {},
   "source": [
    "# Forecast car sales with Prophet"
   ]
  },
  {
   "cell_type": "markdown",
   "metadata": {},
   "source": [
    "## Fit Prophet model\n",
    "To use Prophet, a Prophet() object needs to be defined first. And then it's fit on the dataset by calling the fit() method.\n",
    "\n",
    "The Prophet() object takes arguments to configure the model, such as the type of growth, the type of seasonality, etc. By default, the model will figure out almost everything automatically.\n",
    "\n",
    "The fit() method takes a DataFrame of time series data. The DataFrame must have a specific format:\n",
    "- The first column must have the name `ds` and contain the date-times. The column must be converted to date-time object.\n",
    "- The second column must have the name `y` and contain the observation."
   ]
  },
  {
   "cell_type": "code",
   "execution_count": 14,
   "metadata": {},
   "outputs": [
    {
     "data": {
      "text/plain": [
       "ds    datetime64[ns]\n",
       "y              int64\n",
       "dtype: object"
      ]
     },
     "execution_count": 14,
     "metadata": {},
     "output_type": "execute_result"
    }
   ],
   "source": [
    "df.columns = ['ds','y']\n",
    "df['ds'] = pd.to_datetime(df['ds'])\n",
    "df.dtypes"
   ]
  },
  {
   "cell_type": "code",
   "execution_count": 17,
   "metadata": {},
   "outputs": [
    {
     "name": "stderr",
     "output_type": "stream",
     "text": [
      "INFO:numexpr.utils:NumExpr defaulting to 8 threads.\n",
      "INFO:fbprophet:Disabling weekly seasonality. Run prophet with weekly_seasonality=True to override this.\n",
      "INFO:fbprophet:Disabling daily seasonality. Run prophet with daily_seasonality=True to override this.\n"
     ]
    },
    {
     "data": {
      "text/plain": [
       "<fbprophet.forecaster.Prophet at 0x7fac3b2955e0>"
      ]
     },
     "execution_count": 17,
     "metadata": {},
     "output_type": "execute_result"
    }
   ],
   "source": [
    "model = Prophet()\n",
    "model.fit(df)"
   ]
  },
  {
   "cell_type": "markdown",
   "metadata": {},
   "source": [
    "# Make an in-sample forecast\n",
    "\n",
    "In-sample means in training set sample. Although it's not the case in real-life scenario, in-sample forecast can give insight abou thow good the model is - how well it learned the training data.\n",
    "\n",
    "A forecast is made by calling the predict() function and passing a DataFrame that contains one column named `ds` and rows with date-times for all the invervals to be predicted."
   ]
  },
  {
   "cell_type": "code",
   "execution_count": 20,
   "metadata": {},
   "outputs": [
    {
     "data": {
      "text/html": [
       "<div>\n",
       "<style scoped>\n",
       "    .dataframe tbody tr th:only-of-type {\n",
       "        vertical-align: middle;\n",
       "    }\n",
       "\n",
       "    .dataframe tbody tr th {\n",
       "        vertical-align: top;\n",
       "    }\n",
       "\n",
       "    .dataframe thead th {\n",
       "        text-align: right;\n",
       "    }\n",
       "</style>\n",
       "<table border=\"1\" class=\"dataframe\">\n",
       "  <thead>\n",
       "    <tr style=\"text-align: right;\">\n",
       "      <th></th>\n",
       "      <th>ds</th>\n",
       "    </tr>\n",
       "  </thead>\n",
       "  <tbody>\n",
       "    <tr>\n",
       "      <th>0</th>\n",
       "      <td>1968-01-01</td>\n",
       "    </tr>\n",
       "    <tr>\n",
       "      <th>1</th>\n",
       "      <td>1968-02-01</td>\n",
       "    </tr>\n",
       "    <tr>\n",
       "      <th>2</th>\n",
       "      <td>1968-03-01</td>\n",
       "    </tr>\n",
       "    <tr>\n",
       "      <th>3</th>\n",
       "      <td>1968-04-01</td>\n",
       "    </tr>\n",
       "    <tr>\n",
       "      <th>4</th>\n",
       "      <td>1968-05-01</td>\n",
       "    </tr>\n",
       "    <tr>\n",
       "      <th>5</th>\n",
       "      <td>1968-06-01</td>\n",
       "    </tr>\n",
       "    <tr>\n",
       "      <th>6</th>\n",
       "      <td>1968-07-01</td>\n",
       "    </tr>\n",
       "    <tr>\n",
       "      <th>7</th>\n",
       "      <td>1968-08-01</td>\n",
       "    </tr>\n",
       "    <tr>\n",
       "      <th>8</th>\n",
       "      <td>1968-09-01</td>\n",
       "    </tr>\n",
       "    <tr>\n",
       "      <th>9</th>\n",
       "      <td>1968-10-01</td>\n",
       "    </tr>\n",
       "    <tr>\n",
       "      <th>10</th>\n",
       "      <td>1968-11-01</td>\n",
       "    </tr>\n",
       "    <tr>\n",
       "      <th>11</th>\n",
       "      <td>1968-12-01</td>\n",
       "    </tr>\n",
       "  </tbody>\n",
       "</table>\n",
       "</div>"
      ],
      "text/plain": [
       "           ds\n",
       "0  1968-01-01\n",
       "1  1968-02-01\n",
       "2  1968-03-01\n",
       "3  1968-04-01\n",
       "4  1968-05-01\n",
       "5  1968-06-01\n",
       "6  1968-07-01\n",
       "7  1968-08-01\n",
       "8  1968-09-01\n",
       "9  1968-10-01\n",
       "10 1968-11-01\n",
       "11 1968-12-01"
      ]
     },
     "execution_count": 20,
     "metadata": {},
     "output_type": "execute_result"
    }
   ],
   "source": [
    "future = []\n",
    "for i in range(1,13):\n",
    "    date = '1968-%02d' % i\n",
    "    future.append([date])\n",
    "future = pd.DataFrame(future)\n",
    "future.columns = ['ds']\n",
    "future['ds'] = pd.to_datetime(future['ds'])\n",
    "future"
   ]
  },
  {
   "cell_type": "code",
   "execution_count": 23,
   "metadata": {},
   "outputs": [
    {
     "name": "stdout",
     "output_type": "stream",
     "text": [
      "          ds          yhat    yhat_lower    yhat_upper\n",
      "0 1968-01-01  14363.556656  12846.277549  15998.711024\n",
      "1 1968-02-01  14929.449809  13383.664423  16432.413876\n",
      "2 1968-03-01  20893.417179  19296.423974  22514.055690\n",
      "3 1968-04-01  22910.515245  21321.802126  24484.874309\n",
      "4 1968-05-01  24200.784363  22591.542355  25733.098075\n"
     ]
    }
   ],
   "source": [
    "forecast = model.predict(future)\n",
    "print(forecast[['ds','yhat','yhat_lower','yhat_upper']].head())"
   ]
  },
  {
   "cell_type": "code",
   "execution_count": 24,
   "metadata": {},
   "outputs": [
    {
     "data": {
      "image/png": "[encoded data removed]",
      "text/plain": [
       "<Figure size 720x432 with 1 Axes>"
      ]
     },
     "metadata": {},
     "output_type": "display_data"
    }
   ],
   "source": [
    "model.plot(forecast)\n",
    "plt.show()"
   ]
  },
  {
   "cell_type": "markdown",
   "metadata": {},
   "source": [
    "The training data are represented as black dots and the forecast is a blue line with upper and lower bounds in blue shaded area.\n",
    "\n",
    "We can see that the forecasted 12 months is a good match for the real observations."
   ]
  },
  {
   "cell_type": "markdown",
   "metadata": {},
   "source": [
    "# Make out-of-sample forecast"
   ]
  },
  {
   "cell_type": "code",
   "execution_count": 25,
   "metadata": {},
   "outputs": [
    {
     "data": {
      "text/html": [
       "<div>\n",
       "<style scoped>\n",
       "    .dataframe tbody tr th:only-of-type {\n",
       "        vertical-align: middle;\n",
       "    }\n",
       "\n",
       "    .dataframe tbody tr th {\n",
       "        vertical-align: top;\n",
       "    }\n",
       "\n",
       "    .dataframe thead th {\n",
       "        text-align: right;\n",
       "    }\n",
       "</style>\n",
       "<table border=\"1\" class=\"dataframe\">\n",
       "  <thead>\n",
       "    <tr style=\"text-align: right;\">\n",
       "      <th></th>\n",
       "      <th>ds</th>\n",
       "    </tr>\n",
       "  </thead>\n",
       "  <tbody>\n",
       "    <tr>\n",
       "      <th>0</th>\n",
       "      <td>1969-01-01</td>\n",
       "    </tr>\n",
       "    <tr>\n",
       "      <th>1</th>\n",
       "      <td>1969-02-01</td>\n",
       "    </tr>\n",
       "    <tr>\n",
       "      <th>2</th>\n",
       "      <td>1969-03-01</td>\n",
       "    </tr>\n",
       "    <tr>\n",
       "      <th>3</th>\n",
       "      <td>1969-04-01</td>\n",
       "    </tr>\n",
       "    <tr>\n",
       "      <th>4</th>\n",
       "      <td>1969-05-01</td>\n",
       "    </tr>\n",
       "  </tbody>\n",
       "</table>\n",
       "</div>"
      ],
      "text/plain": [
       "          ds\n",
       "0 1969-01-01\n",
       "1 1969-02-01\n",
       "2 1969-03-01\n",
       "3 1969-04-01\n",
       "4 1969-05-01"
      ]
     },
     "execution_count": 25,
     "metadata": {},
     "output_type": "execute_result"
    }
   ],
   "source": [
    "future = []\n",
    "for i in range(1,13):\n",
    "    date = '1969-%02d'%i\n",
    "    future.append([date])\n",
    "future = pd.DataFrame(future)\n",
    "future.columns = ['ds']\n",
    "future['ds'] = pd.to_datetime(future['ds'])\n",
    "future.head()"
   ]
  },
  {
   "cell_type": "code",
   "execution_count": 26,
   "metadata": {},
   "outputs": [
    {
     "name": "stdout",
     "output_type": "stream",
     "text": [
      "          ds          yhat    yhat_lower    yhat_upper\n",
      "0 1969-01-01  15430.055568  13794.844086  17127.971585\n",
      "1 1969-02-01  16206.859137  14570.322611  17801.358186\n",
      "2 1969-03-01  21407.960484  19834.745466  22916.643981\n",
      "3 1969-04-01  23530.369039  22062.137105  25078.796023\n",
      "4 1969-05-01  25036.901537  23443.170548  26520.667802\n"
     ]
    }
   ],
   "source": [
    "forecast = model.predict(future)\n",
    "print(forecast[['ds','yhat','yhat_lower','yhat_upper']].head())"
   ]
  },
  {
   "cell_type": "code",
   "execution_count": 27,
   "metadata": {},
   "outputs": [
    {
     "data": {
      "image/png": "[encoded data removed]",
      "text/plain": [
       "<Figure size 720x432 with 1 Axes>"
      ]
     },
     "metadata": {},
     "output_type": "display_data"
    }
   ],
   "source": [
    "model.plot(forecast)\n",
    "plt.show()"
   ]
  },
  {
   "cell_type": "markdown",
   "metadata": {},
   "source": [
    "The out-of-sample one-year forecast looks sensible."
   ]
  },
  {
   "cell_type": "markdown",
   "metadata": {},
   "source": [
    "# Manually evaluate forecast model\n",
    "\n",
    "Hold some data back from the model, and then fit the model on the first portion of the data, use it to make predictions on the held-back portion, and calculate an error measure. "
   ]
  },
  {
   "cell_type": "code",
   "execution_count": 28,
   "metadata": {},
   "outputs": [
    {
     "data": {
      "text/html": [
       "<div>\n",
       "<style scoped>\n",
       "    .dataframe tbody tr th:only-of-type {\n",
       "        vertical-align: middle;\n",
       "    }\n",
       "\n",
       "    .dataframe tbody tr th {\n",
       "        vertical-align: top;\n",
       "    }\n",
       "\n",
       "    .dataframe thead th {\n",
       "        text-align: right;\n",
       "    }\n",
       "</style>\n",
       "<table border=\"1\" class=\"dataframe\">\n",
       "  <thead>\n",
       "    <tr style=\"text-align: right;\">\n",
       "      <th></th>\n",
       "      <th>ds</th>\n",
       "      <th>y</th>\n",
       "    </tr>\n",
       "  </thead>\n",
       "  <tbody>\n",
       "    <tr>\n",
       "      <th>91</th>\n",
       "      <td>1967-08-01</td>\n",
       "      <td>13434</td>\n",
       "    </tr>\n",
       "    <tr>\n",
       "      <th>92</th>\n",
       "      <td>1967-09-01</td>\n",
       "      <td>13598</td>\n",
       "    </tr>\n",
       "    <tr>\n",
       "      <th>93</th>\n",
       "      <td>1967-10-01</td>\n",
       "      <td>17187</td>\n",
       "    </tr>\n",
       "    <tr>\n",
       "      <th>94</th>\n",
       "      <td>1967-11-01</td>\n",
       "      <td>16119</td>\n",
       "    </tr>\n",
       "    <tr>\n",
       "      <th>95</th>\n",
       "      <td>1967-12-01</td>\n",
       "      <td>13713</td>\n",
       "    </tr>\n",
       "  </tbody>\n",
       "</table>\n",
       "</div>"
      ],
      "text/plain": [
       "           ds      y\n",
       "91 1967-08-01  13434\n",
       "92 1967-09-01  13598\n",
       "93 1967-10-01  17187\n",
       "94 1967-11-01  16119\n",
       "95 1967-12-01  13713"
      ]
     },
     "execution_count": 28,
     "metadata": {},
     "output_type": "execute_result"
    }
   ],
   "source": [
    "# create training data by removing the last 12 months\n",
    "train = df.drop(df.index[-12:])\n",
    "train.tail()"
   ]
  },
  {
   "cell_type": "code",
   "execution_count": 29,
   "metadata": {},
   "outputs": [
    {
     "name": "stderr",
     "output_type": "stream",
     "text": [
      "INFO:fbprophet:Disabling weekly seasonality. Run prophet with weekly_seasonality=True to override this.\n",
      "INFO:fbprophet:Disabling daily seasonality. Run prophet with daily_seasonality=True to override this.\n"
     ]
    },
    {
     "data": {
      "text/plain": [
       "<fbprophet.forecaster.Prophet at 0x7fabe01a35b0>"
      ]
     },
     "execution_count": 29,
     "metadata": {},
     "output_type": "execute_result"
    }
   ],
   "source": [
    "model = Prophet()\n",
    "model.fit(train)"
   ]
  },
  {
   "cell_type": "code",
   "execution_count": 30,
   "metadata": {},
   "outputs": [],
   "source": [
    "future = []\n",
    "for i in range(1,13):\n",
    "    date = '1968-%02d' % i\n",
    "    future.append([date])\n",
    "future = pd.DataFrame(future)\n",
    "future.columns = ['ds']\n",
    "future['ds'] = pd.to_datetime(future['ds'])\n",
    "forecast = model.predict(future)"
   ]
  },
  {
   "cell_type": "code",
   "execution_count": 32,
   "metadata": {},
   "outputs": [
    {
     "name": "stdout",
     "output_type": "stream",
     "text": [
      "MAE: 1336.814\n"
     ]
    }
   ],
   "source": [
    "from sklearn.metrics import mean_absolute_error\n",
    "\n",
    "y_true = df['y'][-12:].values\n",
    "y_pred = forecast['yhat'].values\n",
    "mae = mean_absolute_error(y_true, y_pred)\n",
    "print('MAE: %.3f' % mae)"
   ]
  },
  {
   "cell_type": "code",
   "execution_count": 33,
   "metadata": {},
   "outputs": [
    {
     "data": {
      "image/png": "[encoded data removed]",
      "text/plain": [
       "<Figure size 432x288 with 1 Axes>"
      ]
     },
     "metadata": {
      "needs_background": "light"
     },
     "output_type": "display_data"
    }
   ],
   "source": [
    "plt.plot(y_true,label='Actual')\n",
    "plt.plot(y_pred,label='Predicted')\n",
    "plt.legend()\n",
    "plt.show()"
   ]
  },
  {
   "cell_type": "markdown",
   "metadata": {},
   "source": []
  }
 ],
 "metadata": {
  "kernelspec": {
   "display_name": "Python 3",
   "language": "python",
   "name": "python3"
  },
  "language_info": {
   "codemirror_mode": {
    "name": "ipython",
    "version": 3
   },
   "file_extension": ".py",
   "mimetype": "text/x-python",
   "name": "python",
   "nbconvert_exporter": "python",
   "pygments_lexer": "ipython3",
   "version": "3.8.5"
  }
 },
 "nbformat": 4,
 "nbformat_minor": 4
}
